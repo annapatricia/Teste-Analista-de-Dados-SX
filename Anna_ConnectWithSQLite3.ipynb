{
  "nbformat": 4,
  "nbformat_minor": 0,
  "metadata": {
    "colab": {
      "provenance": [],
      "machine_shape": "hm",
      "gpuType": "V28"
    },
    "kernelspec": {
      "name": "python3",
      "display_name": "Python 3"
    },
    "language_info": {
      "name": "python"
    },
    "accelerator": "TPU"
  },
  "cells": [
    {
      "cell_type": "code",
      "source": [
        "!pip freeze > requirements.txt"
      ],
      "metadata": {
        "id": "cpxBZ0noyb-F"
      },
      "execution_count": null,
      "outputs": []
    },
    {
      "cell_type": "code",
      "source": [
        "import zipfile\n",
        "import os\n",
        "\n",
        "# Caminho para o arquivo .zip\n",
        "zip_path = '/content/microdados_enem_2020.zip'\n",
        "\n",
        "# Diretório onde os arquivos serão extraídos\n",
        "extract_path = 'extraidos'\n",
        "\n",
        "# Descompactar o arquivo\n",
        "with zipfile.ZipFile(zip_path, 'r') as zip_ref:\n",
        "    zip_ref.extractall(extract_path)\n",
        "\n",
        "# Listar arquivos extraídos\n",
        "print(\"Arquivos extraídos:\", os.listdir(extract_path))\n"
      ],
      "metadata": {
        "colab": {
          "base_uri": "https://localhost:8080/"
        },
        "id": "FsOMdZ2umm76",
        "outputId": "dfc6ec5e-2c45-49f3-bdb6-48599372f631"
      },
      "execution_count": null,
      "outputs": [
        {
          "output_type": "stream",
          "name": "stdout",
          "text": [
            "Arquivos extraídos: ['INPUTS', 'LEIA-ME E DOCUMENTOS TÉCNICOS', 'DADOS', 'DICION╡RIO', 'PROVAS E GABARITOS']\n"
          ]
        }
      ]
    },
    {
      "cell_type": "markdown",
      "source": [
        "## UTILIZANDO MICRODADOS_ENEM_2020"
      ],
      "metadata": {
        "id": "sZKrWV0DqlWn"
      }
    },
    {
      "cell_type": "code",
      "source": [
        "import sqlite3\n",
        "import pandas as pd\n",
        "\n",
        "# Caminho para o arquivo CSV\n",
        "csv_path = '/content/extraidos/DADOS/MICRODADOS_ENEM_2020.csv'\n",
        "\n",
        "# Nome do banco de dados SQLite\n",
        "db_path = 'enem_2020.db'\n",
        "\n",
        "# Nome da tabela no banco\n",
        "table_name = 'microdados_enem'\n",
        "\n",
        "# Ler o CSV em um DataFrame\n",
        "print(\"Lendo o arquivo CSV...\")\n",
        "df = pd.read_csv(csv_path, sep=';', encoding='latin1')  # Ajuste 'sep' e 'encoding' se necessário\n",
        "\n",
        "# Conectar ao banco de dados SQLite (será criado se não existir)\n",
        "print(\"Criando o banco de dados SQLite...\")\n",
        "conn = sqlite3.connect(db_path)\n",
        "\n",
        "# Escrever os dados do DataFrame na tabela SQLite\n",
        "print(f\"Inserindo os dados na tabela '{table_name}'...\")\n",
        "df.to_sql(table_name, conn, if_exists='replace', index=False)\n",
        "\n",
        "# Fechar a conexão\n",
        "conn.close()\n",
        "\n",
        "print(f\"Banco de dados '{db_path}' criado com sucesso!\")"
      ],
      "metadata": {
        "colab": {
          "base_uri": "https://localhost:8080/"
        },
        "id": "yNsC_6gWqVgW",
        "outputId": "f8023796-fc90-4a07-9bbf-40e71b3fe3b7"
      },
      "execution_count": null,
      "outputs": [
        {
          "output_type": "stream",
          "name": "stdout",
          "text": [
            "Lendo o arquivo CSV...\n",
            "Criando o banco de dados SQLite...\n",
            "Inserindo os dados na tabela 'microdados_enem'...\n",
            "Banco de dados 'enem_2020.db' criado com sucesso!\n"
          ]
        }
      ]
    },
    {
      "cell_type": "code",
      "source": [
        "import sqlite3\n",
        "\n",
        "# Caminho para o banco de dados\n",
        "db_path = '/content/enem_2020.db'\n",
        "\n",
        "# Nome da tabela para consultar as variáveis\n",
        "table_name = 'microdados_enem'\n",
        "\n",
        "# Conectar ao banco de dados\n",
        "conn = sqlite3.connect(db_path)\n",
        "cursor = conn.cursor()\n",
        "\n",
        "# Executar o comando PRAGMA para obter informações sobre as colunas\n",
        "query = f\"PRAGMA table_info({table_name});\"\n",
        "cursor.execute(query)\n",
        "\n",
        "# Buscar todas as colunas\n",
        "columns_info = cursor.fetchall()\n",
        "\n",
        "# Exibir informações das colunas\n",
        "print(f\"Colunas da tabela '{table_name}':\")\n",
        "for col in columns_info:\n",
        "    print(f\"- Nome: {col[1]}, Tipo: {col[2]}, Not Null: {bool(col[3])}, PK: {bool(col[5])}\")\n",
        "\n",
        "# Fechar a conexão\n",
        "conn.close()\n"
      ],
      "metadata": {
        "colab": {
          "base_uri": "https://localhost:8080/"
        },
        "id": "QlZVprgjumn5",
        "outputId": "6b240a6c-fe44-4f5f-8341-50f08ecddf85"
      },
      "execution_count": null,
      "outputs": [
        {
          "output_type": "stream",
          "name": "stdout",
          "text": [
            "Colunas da tabela 'microdados_enem':\n",
            "- Nome: NU_INSCRICAO, Tipo: INTEGER, Not Null: False, PK: False\n",
            "- Nome: NU_ANO, Tipo: INTEGER, Not Null: False, PK: False\n",
            "- Nome: TP_FAIXA_ETARIA, Tipo: INTEGER, Not Null: False, PK: False\n",
            "- Nome: TP_SEXO, Tipo: TEXT, Not Null: False, PK: False\n",
            "- Nome: TP_ESTADO_CIVIL, Tipo: INTEGER, Not Null: False, PK: False\n",
            "- Nome: TP_COR_RACA, Tipo: INTEGER, Not Null: False, PK: False\n",
            "- Nome: TP_NACIONALIDADE, Tipo: INTEGER, Not Null: False, PK: False\n",
            "- Nome: TP_ST_CONCLUSAO, Tipo: INTEGER, Not Null: False, PK: False\n",
            "- Nome: TP_ANO_CONCLUIU, Tipo: INTEGER, Not Null: False, PK: False\n",
            "- Nome: TP_ESCOLA, Tipo: INTEGER, Not Null: False, PK: False\n",
            "- Nome: TP_ENSINO, Tipo: REAL, Not Null: False, PK: False\n",
            "- Nome: IN_TREINEIRO, Tipo: INTEGER, Not Null: False, PK: False\n",
            "- Nome: CO_MUNICIPIO_ESC, Tipo: REAL, Not Null: False, PK: False\n",
            "- Nome: NO_MUNICIPIO_ESC, Tipo: TEXT, Not Null: False, PK: False\n",
            "- Nome: CO_UF_ESC, Tipo: REAL, Not Null: False, PK: False\n",
            "- Nome: SG_UF_ESC, Tipo: TEXT, Not Null: False, PK: False\n",
            "- Nome: TP_DEPENDENCIA_ADM_ESC, Tipo: REAL, Not Null: False, PK: False\n",
            "- Nome: TP_LOCALIZACAO_ESC, Tipo: REAL, Not Null: False, PK: False\n",
            "- Nome: TP_SIT_FUNC_ESC, Tipo: REAL, Not Null: False, PK: False\n",
            "- Nome: CO_MUNICIPIO_PROVA, Tipo: INTEGER, Not Null: False, PK: False\n",
            "- Nome: NO_MUNICIPIO_PROVA, Tipo: TEXT, Not Null: False, PK: False\n",
            "- Nome: CO_UF_PROVA, Tipo: INTEGER, Not Null: False, PK: False\n",
            "- Nome: SG_UF_PROVA, Tipo: TEXT, Not Null: False, PK: False\n",
            "- Nome: TP_PRESENCA_CN, Tipo: INTEGER, Not Null: False, PK: False\n",
            "- Nome: TP_PRESENCA_CH, Tipo: INTEGER, Not Null: False, PK: False\n",
            "- Nome: TP_PRESENCA_LC, Tipo: INTEGER, Not Null: False, PK: False\n",
            "- Nome: TP_PRESENCA_MT, Tipo: INTEGER, Not Null: False, PK: False\n",
            "- Nome: CO_PROVA_CN, Tipo: REAL, Not Null: False, PK: False\n",
            "- Nome: CO_PROVA_CH, Tipo: REAL, Not Null: False, PK: False\n",
            "- Nome: CO_PROVA_LC, Tipo: REAL, Not Null: False, PK: False\n",
            "- Nome: CO_PROVA_MT, Tipo: REAL, Not Null: False, PK: False\n",
            "- Nome: NU_NOTA_CN, Tipo: REAL, Not Null: False, PK: False\n",
            "- Nome: NU_NOTA_CH, Tipo: REAL, Not Null: False, PK: False\n",
            "- Nome: NU_NOTA_LC, Tipo: REAL, Not Null: False, PK: False\n",
            "- Nome: NU_NOTA_MT, Tipo: REAL, Not Null: False, PK: False\n",
            "- Nome: TX_RESPOSTAS_CN, Tipo: TEXT, Not Null: False, PK: False\n",
            "- Nome: TX_RESPOSTAS_CH, Tipo: TEXT, Not Null: False, PK: False\n",
            "- Nome: TX_RESPOSTAS_LC, Tipo: TEXT, Not Null: False, PK: False\n",
            "- Nome: TX_RESPOSTAS_MT, Tipo: TEXT, Not Null: False, PK: False\n",
            "- Nome: TP_LINGUA, Tipo: INTEGER, Not Null: False, PK: False\n",
            "- Nome: TX_GABARITO_CN, Tipo: TEXT, Not Null: False, PK: False\n",
            "- Nome: TX_GABARITO_CH, Tipo: TEXT, Not Null: False, PK: False\n",
            "- Nome: TX_GABARITO_LC, Tipo: TEXT, Not Null: False, PK: False\n",
            "- Nome: TX_GABARITO_MT, Tipo: TEXT, Not Null: False, PK: False\n",
            "- Nome: TP_STATUS_REDACAO, Tipo: REAL, Not Null: False, PK: False\n",
            "- Nome: NU_NOTA_COMP1, Tipo: REAL, Not Null: False, PK: False\n",
            "- Nome: NU_NOTA_COMP2, Tipo: REAL, Not Null: False, PK: False\n",
            "- Nome: NU_NOTA_COMP3, Tipo: REAL, Not Null: False, PK: False\n",
            "- Nome: NU_NOTA_COMP4, Tipo: REAL, Not Null: False, PK: False\n",
            "- Nome: NU_NOTA_COMP5, Tipo: REAL, Not Null: False, PK: False\n",
            "- Nome: NU_NOTA_REDACAO, Tipo: REAL, Not Null: False, PK: False\n",
            "- Nome: Q001, Tipo: TEXT, Not Null: False, PK: False\n",
            "- Nome: Q002, Tipo: TEXT, Not Null: False, PK: False\n",
            "- Nome: Q003, Tipo: TEXT, Not Null: False, PK: False\n",
            "- Nome: Q004, Tipo: TEXT, Not Null: False, PK: False\n",
            "- Nome: Q005, Tipo: REAL, Not Null: False, PK: False\n",
            "- Nome: Q006, Tipo: TEXT, Not Null: False, PK: False\n",
            "- Nome: Q007, Tipo: TEXT, Not Null: False, PK: False\n",
            "- Nome: Q008, Tipo: TEXT, Not Null: False, PK: False\n",
            "- Nome: Q009, Tipo: TEXT, Not Null: False, PK: False\n",
            "- Nome: Q010, Tipo: TEXT, Not Null: False, PK: False\n",
            "- Nome: Q011, Tipo: TEXT, Not Null: False, PK: False\n",
            "- Nome: Q012, Tipo: TEXT, Not Null: False, PK: False\n",
            "- Nome: Q013, Tipo: TEXT, Not Null: False, PK: False\n",
            "- Nome: Q014, Tipo: TEXT, Not Null: False, PK: False\n",
            "- Nome: Q015, Tipo: TEXT, Not Null: False, PK: False\n",
            "- Nome: Q016, Tipo: TEXT, Not Null: False, PK: False\n",
            "- Nome: Q017, Tipo: TEXT, Not Null: False, PK: False\n",
            "- Nome: Q018, Tipo: TEXT, Not Null: False, PK: False\n",
            "- Nome: Q019, Tipo: TEXT, Not Null: False, PK: False\n",
            "- Nome: Q020, Tipo: TEXT, Not Null: False, PK: False\n",
            "- Nome: Q021, Tipo: TEXT, Not Null: False, PK: False\n",
            "- Nome: Q022, Tipo: TEXT, Not Null: False, PK: False\n",
            "- Nome: Q023, Tipo: TEXT, Not Null: False, PK: False\n",
            "- Nome: Q024, Tipo: TEXT, Not Null: False, PK: False\n",
            "- Nome: Q025, Tipo: TEXT, Not Null: False, PK: False\n"
          ]
        }
      ]
    },
    {
      "cell_type": "code",
      "source": [
        "import sqlite3\n",
        "\n",
        "# Caminho para o banco de dados\n",
        "db_path = 'enem_2020.db'\n",
        "\n",
        "# Conectar ao banco\n",
        "conn = sqlite3.connect(db_path)\n",
        "cursor = conn.cursor()\n",
        "\n",
        "# Consulta SQL para encontrar a escola com a maior média de notas\n",
        "query = \"\"\"\n",
        "SELECT\n",
        "    CO_MUNICIPIO_ESC,\n",
        "    AVG(NU_NOTA_CN) AS media_cn,\n",
        "    AVG(NU_NOTA_CH) AS media_ch,\n",
        "    AVG(NU_NOTA_LC) AS media_lc,\n",
        "    AVG(NU_NOTA_MT) AS media_mt,\n",
        "    (AVG(NU_NOTA_CN) + AVG(NU_NOTA_CH) + AVG(NU_NOTA_LC) + AVG(NU_NOTA_MT)) / 4 AS media_total\n",
        "FROM\n",
        "    microdados_enem\n",
        "GROUP BY\n",
        "    CO_MUNICIPIO_ESC\n",
        "ORDER BY\n",
        "    media_total DESC\n",
        "LIMIT 1;\n",
        "\"\"\"\n",
        "\n",
        "# Executar a consulta\n",
        "cursor.execute(query)\n",
        "\n",
        "# Buscar o resultado\n",
        "result = cursor.fetchone()\n",
        "\n",
        "# Exibir o resultado\n",
        "if result:\n",
        "    print(\"Escola com a maior média de notas:\")\n",
        "    print(f\"ID do Município: {result[0]}, Média CN: {result[1]}, Média CH: {result[2]}, Média LC: {result[3]}, Média MT: {result[4]}, Média Total: {result[5]}\")\n",
        "else:\n",
        "    print(\"Nenhum resultado encontrado.\")\n",
        "\n",
        "# Fechar a conexão\n",
        "conn.close()\n"
      ],
      "metadata": {
        "colab": {
          "base_uri": "https://localhost:8080/"
        },
        "id": "n0QzwiP0vMO7",
        "outputId": "ec02aa30-7653-49ee-e20c-381da50f0fde"
      },
      "execution_count": null,
      "outputs": [
        {
          "output_type": "stream",
          "name": "stdout",
          "text": [
            "Escola com a maior média de notas:\n",
            "ID do Município: 4117297.0, Média CN: 586.1, Média CH: 779.6, Média LC: 674.6, Média MT: 823.2, Média Total: 715.875\n"
          ]
        }
      ]
    },
    {
      "cell_type": "code",
      "source": [
        "import sqlite3\n",
        "\n",
        "# Caminho para o banco de dados\n",
        "db_path = 'enem_2020.db'\n",
        "\n",
        "# Conectar ao banco\n",
        "conn = sqlite3.connect(db_path)\n",
        "cursor = conn.cursor()\n",
        "\n",
        "# Consulta SQL para encontrar o aluno com a maior média de notas\n",
        "query = \"\"\"\n",
        "SELECT\n",
        "    NU_INSCRICAO,\n",
        "    (NU_NOTA_CN + NU_NOTA_CH + NU_NOTA_LC + NU_NOTA_MT) / 4.0 AS media_total\n",
        "FROM\n",
        "    microdados_enem\n",
        "WHERE\n",
        "    NU_NOTA_CN IS NOT NULL AND\n",
        "    NU_NOTA_CH IS NOT NULL AND\n",
        "    NU_NOTA_LC IS NOT NULL AND\n",
        "    NU_NOTA_MT IS NOT NULL\n",
        "ORDER BY\n",
        "    media_total DESC\n",
        "LIMIT 1;\n",
        "\"\"\"\n",
        "\n",
        "# Executar a consulta\n",
        "cursor.execute(query)\n",
        "\n",
        "# Buscar o resultado\n",
        "result = cursor.fetchone()\n",
        "\n",
        "# Exibir o resultado\n",
        "if result:\n",
        "    print(\"Aluno com a maior média de notas:\")\n",
        "    print(f\"NU_INSCRICAO: {result[0]}, Média Total: {result[1]}\")\n",
        "else:\n",
        "    print(\"Nenhum resultado encontrado.\")\n",
        "\n",
        "# Fechar a conexão\n",
        "conn.close()\n"
      ],
      "metadata": {
        "colab": {
          "base_uri": "https://localhost:8080/"
        },
        "id": "8nJnmO53vWzA",
        "outputId": "acb8d95e-d1df-4b85-ffc7-7ec9cd3bbce4"
      },
      "execution_count": null,
      "outputs": [
        {
          "output_type": "stream",
          "name": "stdout",
          "text": [
            "Aluno com a maior média de notas:\n",
            "NU_INSCRICAO: 200001357436, Média Total: 830.95\n"
          ]
        }
      ]
    },
    {
      "cell_type": "code",
      "source": [
        "import sqlite3\n",
        "\n",
        "# Caminho para o banco de dados\n",
        "db_path = 'enem_2020.db'\n",
        "\n",
        "# Conectar ao banco\n",
        "conn = sqlite3.connect(db_path)\n",
        "cursor = conn.cursor()\n",
        "\n",
        "# Consulta SQL para calcular a média geral das notas\n",
        "query = \"\"\"\n",
        "SELECT\n",
        "    AVG((NU_NOTA_CN + NU_NOTA_CH + NU_NOTA_LC + NU_NOTA_MT) / 4.0) AS media_geral\n",
        "FROM\n",
        "    microdados_enem\n",
        "WHERE\n",
        "    NU_NOTA_CN IS NOT NULL AND\n",
        "    NU_NOTA_CH IS NOT NULL AND\n",
        "    NU_NOTA_LC IS NOT NULL AND\n",
        "    NU_NOTA_MT IS NOT NULL;\n",
        "\"\"\"\n",
        "\n",
        "# Executar a consulta\n",
        "cursor.execute(query)\n",
        "\n",
        "# Buscar o resultado\n",
        "result = cursor.fetchone()\n",
        "\n",
        "# Exibir o resultado\n",
        "if result:\n",
        "    print(f\"Média geral das notas: {result[0]}\")\n",
        "else:\n",
        "    print(\"Nenhum resultado encontrado.\")\n",
        "\n",
        "# Fechar a conexão\n",
        "conn.close()\n"
      ],
      "metadata": {
        "colab": {
          "base_uri": "https://localhost:8080/"
        },
        "id": "PyqRnhHnv7x_",
        "outputId": "0a87b24e-217e-4996-ae87-ab49b7bfa208"
      },
      "execution_count": null,
      "outputs": [
        {
          "output_type": "stream",
          "name": "stdout",
          "text": [
            "Média geral das notas: 512.8920297634561\n"
          ]
        }
      ]
    },
    {
      "cell_type": "code",
      "source": [
        "import sqlite3\n",
        "\n",
        "# Caminho para o banco de dados\n",
        "db_path = 'enem_2020.db'\n",
        "\n",
        "# Conectar ao banco\n",
        "conn = sqlite3.connect(db_path)\n",
        "cursor = conn.cursor()\n",
        "\n",
        "# Consulta SQL para calcular a porcentagem de ausentes\n",
        "query = \"\"\"\n",
        "SELECT\n",
        "    (SUM(CASE\n",
        "            WHEN TP_PRESENCA_CN = 0 THEN 1\n",
        "            ELSE 0\n",
        "         END) +\n",
        "     SUM(CASE\n",
        "            WHEN TP_PRESENCA_CH = 0 THEN 1\n",
        "            ELSE 0\n",
        "         END) +\n",
        "     SUM(CASE\n",
        "            WHEN TP_PRESENCA_LC = 0 THEN 1\n",
        "            ELSE 0\n",
        "         END) +\n",
        "     SUM(CASE\n",
        "            WHEN TP_PRESENCA_MT = 0 THEN 1\n",
        "            ELSE 0\n",
        "         END)) * 100.0 / COUNT(*) AS percentual_ausentes\n",
        "FROM\n",
        "    microdados_enem;\n",
        "\"\"\"\n",
        "\n",
        "# Executar a consulta\n",
        "cursor.execute(query)\n",
        "\n",
        "# Buscar o resultado\n",
        "result = cursor.fetchone()\n",
        "\n",
        "# Exibir o resultado\n",
        "if result:\n",
        "    print(f\"Percentual de Ausentes: {result[0]:.2f}%\")\n",
        "else:\n",
        "    print(\"Nenhum resultado encontrado.\")\n",
        "\n",
        "# Fechar a conexão\n",
        "conn.close()\n"
      ],
      "metadata": {
        "colab": {
          "base_uri": "https://localhost:8080/"
        },
        "id": "NxPdRbZBwRsM",
        "outputId": "690d7d80-b043-42b7-fc0a-ac2dcf95ca43"
      },
      "execution_count": null,
      "outputs": [
        {
          "output_type": "stream",
          "name": "stdout",
          "text": [
            "Percentual de Ausentes: 214.72%\n"
          ]
        }
      ]
    },
    {
      "cell_type": "code",
      "source": [
        "import sqlite3\n",
        "\n",
        "# Caminho para o banco de dados\n",
        "db_path = 'enem_2020.db'\n",
        "\n",
        "# Conectar ao banco\n",
        "conn = sqlite3.connect(db_path)\n",
        "cursor = conn.cursor()\n",
        "\n",
        "# Consulta SQL para contar o número total de inscritos\n",
        "query = \"\"\"\n",
        "SELECT COUNT(*) AS total_inscritos\n",
        "FROM microdados_enem;\n",
        "\"\"\"\n",
        "\n",
        "# Executar a consulta\n",
        "cursor.execute(query)\n",
        "\n",
        "# Buscar o resultado\n",
        "result = cursor.fetchone()\n",
        "\n",
        "# Exibir o resultado\n",
        "if result:\n",
        "    print(f\"Número total de Inscritos: {result[0]}\")\n",
        "else:\n",
        "    print(\"Nenhum resultado encontrado.\")\n",
        "\n",
        "# Fechar a conexão\n",
        "conn.close()\n"
      ],
      "metadata": {
        "colab": {
          "base_uri": "https://localhost:8080/"
        },
        "id": "00rC8nhzwaU_",
        "outputId": "5cae9d6e-35bf-4456-e9b6-198bd1e32a62"
      },
      "execution_count": null,
      "outputs": [
        {
          "output_type": "stream",
          "name": "stdout",
          "text": [
            "Número total de Inscritos: 5783109\n"
          ]
        }
      ]
    },
    {
      "cell_type": "code",
      "source": [
        "import sqlite3\n",
        "\n",
        "# Caminho para o banco de dados\n",
        "db_path = 'enem_2020.db'\n",
        "\n",
        "# Conectar ao banco\n",
        "conn = sqlite3.connect(db_path)\n",
        "cursor = conn.cursor()\n",
        "\n",
        "# Consulta SQL para calcular a média por disciplina\n",
        "query = \"\"\"\n",
        "SELECT\n",
        "    AVG(NU_NOTA_CN) AS media_CN,\n",
        "    AVG(NU_NOTA_CH) AS media_CH,\n",
        "    AVG(NU_NOTA_LC) AS media_LC,\n",
        "    AVG(NU_NOTA_MT) AS media_MT\n",
        "FROM\n",
        "    microdados_enem\n",
        "WHERE\n",
        "    NU_NOTA_CN IS NOT NULL AND\n",
        "    NU_NOTA_CH IS NOT NULL AND\n",
        "    NU_NOTA_LC IS NOT NULL AND\n",
        "    NU_NOTA_MT IS NOT NULL;\n",
        "\"\"\"\n",
        "\n",
        "# Executar a consulta\n",
        "cursor.execute(query)\n",
        "\n",
        "# Buscar o resultado\n",
        "result = cursor.fetchone()\n",
        "\n",
        "# Exibir o resultado\n",
        "if result:\n",
        "    print(f\"Média Ciências da Natureza: {result[0]:.2f}\")\n",
        "    print(f\"Média Ciências Humanas: {result[1]:.2f}\")\n",
        "    print(f\"Média Linguagens: {result[2]:.2f}\")\n",
        "    print(f\"Média Matemática: {result[3]:.2f}\")\n",
        "else:\n",
        "    print(\"Nenhum resultado encontrado.\")\n",
        "\n",
        "# Fechar a conexão\n",
        "conn.close()\n"
      ],
      "metadata": {
        "colab": {
          "base_uri": "https://localhost:8080/"
        },
        "id": "3P1RId3dwryD",
        "outputId": "b821472f-7dc3-4142-ebeb-a4207c6eb04e"
      },
      "execution_count": null,
      "outputs": [
        {
          "output_type": "stream",
          "name": "stdout",
          "text": [
            "Média Ciências da Natureza: 490.53\n",
            "Média Ciências Humanas: 514.29\n",
            "Média Linguagens: 526.02\n",
            "Média Matemática: 520.73\n"
          ]
        }
      ]
    },
    {
      "cell_type": "code",
      "source": [
        "import sqlite3\n",
        "\n",
        "# Caminho para o banco de dados\n",
        "db_path = 'enem_2020.db'\n",
        "\n",
        "# Conectar ao banco\n",
        "conn = sqlite3.connect(db_path)\n",
        "cursor = conn.cursor()\n",
        "\n",
        "# Consulta SQL para calcular a média por sexo\n",
        "query = \"\"\"\n",
        "SELECT\n",
        "    TP_SEXO,\n",
        "    AVG(NU_NOTA_CN) AS media_CN,\n",
        "    AVG(NU_NOTA_CH) AS media_CH,\n",
        "    AVG(NU_NOTA_LC) AS media_LC,\n",
        "    AVG(NU_NOTA_MT) AS media_MT\n",
        "FROM\n",
        "    microdados_enem\n",
        "WHERE\n",
        "    NU_NOTA_CN IS NOT NULL AND\n",
        "    NU_NOTA_CH IS NOT NULL AND\n",
        "    NU_NOTA_LC IS NOT NULL AND\n",
        "    NU_NOTA_MT IS NOT NULL\n",
        "GROUP BY\n",
        "    TP_SEXO;\n",
        "\"\"\"\n",
        "\n",
        "# Executar a consulta\n",
        "cursor.execute(query)\n",
        "\n",
        "# Buscar todos os resultados\n",
        "results = cursor.fetchall()\n",
        "\n",
        "# Exibir o resultado\n",
        "if results:\n",
        "    for row in results:\n",
        "        sexo, media_CN, media_CH, media_LC, media_MT = row\n",
        "        print(f\"Sexo: {sexo}\")\n",
        "        print(f\"  Média Ciências da Natureza: {media_CN:.2f}\")\n",
        "        print(f\"  Média Ciências Humanas: {media_CH:.2f}\")\n",
        "        print(f\"  Média Linguagens: {media_LC:.2f}\")\n",
        "        print(f\"  Média Matemática: {media_MT:.2f}\")\n",
        "else:\n",
        "    print(\"Nenhum resultado encontrado.\")\n",
        "\n",
        "# Fechar a conexão\n",
        "conn.close()\n"
      ],
      "metadata": {
        "colab": {
          "base_uri": "https://localhost:8080/"
        },
        "id": "V-8wdJklwzRv",
        "outputId": "0ee2e680-8f61-46dd-822f-3a6dbb365345"
      },
      "execution_count": null,
      "outputs": [
        {
          "output_type": "stream",
          "name": "stdout",
          "text": [
            "Sexo: F\n",
            "  Média Ciências da Natureza: 480.33\n",
            "  Média Ciências Humanas: 505.58\n",
            "  Média Linguagens: 523.72\n",
            "  Média Matemática: 500.83\n",
            "Sexo: M\n",
            "  Média Ciências da Natureza: 506.12\n",
            "  Média Ciências Humanas: 527.57\n",
            "  Média Linguagens: 529.54\n",
            "  Média Matemática: 551.11\n"
          ]
        }
      ]
    },
    {
      "cell_type": "code",
      "source": [
        "import sqlite3\n",
        "\n",
        "# Caminho para o banco de dados\n",
        "db_path = 'enem_2020.db'\n",
        "\n",
        "# Conectar ao banco\n",
        "conn = sqlite3.connect(db_path)\n",
        "cursor = conn.cursor()\n",
        "\n",
        "# Consulta SQL para calcular a média por etnia\n",
        "query = \"\"\"\n",
        "SELECT\n",
        "    TP_COR_RACA,\n",
        "    AVG(NU_NOTA_CN) AS media_CN,\n",
        "    AVG(NU_NOTA_CH) AS media_CH,\n",
        "    AVG(NU_NOTA_LC) AS media_LC,\n",
        "    AVG(NU_NOTA_MT) AS media_MT\n",
        "FROM\n",
        "    microdados_enem\n",
        "WHERE\n",
        "    NU_NOTA_CN IS NOT NULL AND\n",
        "    NU_NOTA_CH IS NOT NULL AND\n",
        "    NU_NOTA_LC IS NOT NULL AND\n",
        "    NU_NOTA_MT IS NOT NULL\n",
        "GROUP BY\n",
        "    TP_COR_RACA;\n",
        "\"\"\"\n",
        "\n",
        "# Executar a consulta\n",
        "cursor.execute(query)\n",
        "\n",
        "# Buscar todos os resultados\n",
        "results = cursor.fetchall()\n",
        "\n",
        "# Exibir o resultado\n",
        "if results:\n",
        "    for row in results:\n",
        "        etnia, media_CN, media_CH, media_LC, media_MT = row\n",
        "        print(f\"Etnia: {etnia}\")\n",
        "        print(f\"  Média Ciências da Natureza: {media_CN:.2f}\")\n",
        "        print(f\"  Média Ciências Humanas: {media_CH:.2f}\")\n",
        "        print(f\"  Média Linguagens: {media_LC:.2f}\")\n",
        "        print(f\"  Média Matemática: {media_MT:.2f}\")\n",
        "else:\n",
        "    print(\"Nenhum resultado encontrado.\")\n",
        "\n",
        "# Fechar a conexão\n",
        "conn.close()\n"
      ],
      "metadata": {
        "colab": {
          "base_uri": "https://localhost:8080/"
        },
        "id": "05zXgeOxw_Oi",
        "outputId": "37240778-4823-4d0a-aa12-a6f1459393fd"
      },
      "execution_count": null,
      "outputs": [
        {
          "output_type": "stream",
          "name": "stdout",
          "text": [
            "Etnia: 0\n",
            "  Média Ciências da Natureza: 499.98\n",
            "  Média Ciências Humanas: 525.75\n",
            "  Média Linguagens: 531.74\n",
            "  Média Matemática: 530.85\n",
            "Etnia: 1\n",
            "  Média Ciências da Natureza: 513.27\n",
            "  Média Ciências Humanas: 541.21\n",
            "  Média Linguagens: 547.46\n",
            "  Média Matemática: 557.73\n",
            "Etnia: 2\n",
            "  Média Ciências da Natureza: 470.74\n",
            "  Média Ciências Humanas: 493.33\n",
            "  Média Linguagens: 511.79\n",
            "  Média Matemática: 486.46\n",
            "Etnia: 3\n",
            "  Média Ciências da Natureza: 476.70\n",
            "  Média Ciências Humanas: 497.55\n",
            "  Média Linguagens: 512.23\n",
            "  Média Matemática: 498.91\n",
            "Etnia: 4\n",
            "  Média Ciências da Natureza: 491.12\n",
            "  Média Ciências Humanas: 509.03\n",
            "  Média Linguagens: 522.10\n",
            "  Média Matemática: 522.65\n",
            "Etnia: 5\n",
            "  Média Ciências da Natureza: 453.44\n",
            "  Média Ciências Humanas: 468.55\n",
            "  Média Linguagens: 483.52\n",
            "  Média Matemática: 463.13\n"
          ]
        }
      ]
    }
  ]
}